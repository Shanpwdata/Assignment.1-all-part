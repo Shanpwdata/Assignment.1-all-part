{
 "cells": [
  {
   "cell_type": "code",
   "execution_count": 1,
   "id": "e94f7a80-3f8d-4b25-b6a8-77af5ac3ff10",
   "metadata": {},
   "outputs": [],
   "source": [
    "# Question no. 1\n",
    "name = (\"Shantam\")"
   ]
  },
  {
   "cell_type": "code",
   "execution_count": 2,
   "id": "3f71f693-2df1-4492-b51c-04b15705a520",
   "metadata": {},
   "outputs": [
    {
     "name": "stdout",
     "output_type": "stream",
     "text": [
      "Shantam\n"
     ]
    }
   ],
   "source": [
    "print(name)"
   ]
  },
  {
   "cell_type": "code",
   "execution_count": 3,
   "id": "4b1208f3-53fd-4220-bc6c-169976aaa13e",
   "metadata": {},
   "outputs": [
    {
     "data": {
      "text/plain": [
       "str"
      ]
     },
     "execution_count": 3,
     "metadata": {},
     "output_type": "execute_result"
    }
   ],
   "source": [
    "type(name)"
   ]
  },
  {
   "cell_type": "code",
   "execution_count": 4,
   "id": "1d9af2c9-3b24-4f4e-a849-1b13a6c2fba6",
   "metadata": {},
   "outputs": [],
   "source": [
    "marks = [2, 4, 6, 8, 1, 3, 5, 7, 9]"
   ]
  },
  {
   "cell_type": "code",
   "execution_count": 5,
   "id": "d18d3362-a028-4451-ab73-d8f42e85bf1f",
   "metadata": {},
   "outputs": [
    {
     "name": "stdout",
     "output_type": "stream",
     "text": [
      "[2, 4, 6, 8, 1, 3, 5, 7, 9]\n"
     ]
    }
   ],
   "source": [
    "print(marks)"
   ]
  },
  {
   "cell_type": "code",
   "execution_count": 6,
   "id": "e433fd62-f866-4f40-b0a3-1190b19c4997",
   "metadata": {},
   "outputs": [
    {
     "data": {
      "text/plain": [
       "list"
      ]
     },
     "execution_count": 6,
     "metadata": {},
     "output_type": "execute_result"
    }
   ],
   "source": [
    "type(marks)"
   ]
  },
  {
   "cell_type": "code",
   "execution_count": 7,
   "id": "d8416744-6bba-4454-b276-db7b49ef21d5",
   "metadata": {},
   "outputs": [],
   "source": [
    "a = 45.8595"
   ]
  },
  {
   "cell_type": "code",
   "execution_count": 8,
   "id": "f040c986-04f3-4379-9f4a-6a1ba39e349a",
   "metadata": {},
   "outputs": [
    {
     "data": {
      "text/plain": [
       "45.8595"
      ]
     },
     "execution_count": 8,
     "metadata": {},
     "output_type": "execute_result"
    }
   ],
   "source": [
    "a"
   ]
  },
  {
   "cell_type": "code",
   "execution_count": 9,
   "id": "27fb37d0-2616-4220-97c2-1e44a45c4a9b",
   "metadata": {},
   "outputs": [
    {
     "data": {
      "text/plain": [
       "float"
      ]
     },
     "execution_count": 9,
     "metadata": {},
     "output_type": "execute_result"
    }
   ],
   "source": [
    "type(a)"
   ]
  },
  {
   "cell_type": "code",
   "execution_count": 10,
   "id": "fbfd1268-90ad-4848-8011-24c8f144007a",
   "metadata": {},
   "outputs": [],
   "source": [
    "valuedata = (485, 'can not be change')"
   ]
  },
  {
   "cell_type": "code",
   "execution_count": 11,
   "id": "6521f457-8f21-4012-be4c-2906a503d5e2",
   "metadata": {},
   "outputs": [
    {
     "data": {
      "text/plain": [
       "(485, 'can not be change')"
      ]
     },
     "execution_count": 11,
     "metadata": {},
     "output_type": "execute_result"
    }
   ],
   "source": [
    "valuedata"
   ]
  },
  {
   "cell_type": "code",
   "execution_count": 12,
   "id": "76ef376c-dbb2-4219-a9cb-57ce1340cc6b",
   "metadata": {},
   "outputs": [
    {
     "data": {
      "text/plain": [
       "tuple"
      ]
     },
     "execution_count": 12,
     "metadata": {},
     "output_type": "execute_result"
    }
   ],
   "source": [
    "type(valuedata)"
   ]
  },
  {
   "cell_type": "code",
   "execution_count": 13,
   "id": "af44d2fe-925b-48b2-b409-5fbe51d46499",
   "metadata": {},
   "outputs": [],
   "source": [
    "# Question No. 2\n",
    "var1=''"
   ]
  },
  {
   "cell_type": "code",
   "execution_count": 14,
   "id": "e1898507-badb-43d8-a341-dcd4e538b4f6",
   "metadata": {},
   "outputs": [
    {
     "data": {
      "text/plain": [
       "str"
      ]
     },
     "execution_count": 14,
     "metadata": {},
     "output_type": "execute_result"
    }
   ],
   "source": [
    "type(var1)"
   ]
  },
  {
   "cell_type": "code",
   "execution_count": 15,
   "id": "21699bfd-fe96-4dd4-810c-6e8dc3b8d99a",
   "metadata": {},
   "outputs": [],
   "source": [
    "var2 = '[DS , ML , Python]'"
   ]
  },
  {
   "cell_type": "code",
   "execution_count": 16,
   "id": "98b73351-845d-4ad8-ba04-e9539116efcc",
   "metadata": {},
   "outputs": [
    {
     "data": {
      "text/plain": [
       "str"
      ]
     },
     "execution_count": 16,
     "metadata": {},
     "output_type": "execute_result"
    }
   ],
   "source": [
    "type(var2)"
   ]
  },
  {
   "cell_type": "code",
   "execution_count": 17,
   "id": "33d6bdf8-a816-42fa-a867-31e4e3c35e7a",
   "metadata": {},
   "outputs": [],
   "source": [
    "var3 = [ 'DS' , 'ML' , 'Python' ]"
   ]
  },
  {
   "cell_type": "code",
   "execution_count": 18,
   "id": "320a5730-6716-4988-bad8-5d85522b1d4f",
   "metadata": {},
   "outputs": [
    {
     "data": {
      "text/plain": [
       "list"
      ]
     },
     "execution_count": 18,
     "metadata": {},
     "output_type": "execute_result"
    }
   ],
   "source": [
    "type(var3)"
   ]
  },
  {
   "cell_type": "code",
   "execution_count": 19,
   "id": "8db2f36f-77a3-46a9-9bbf-e82667c527f8",
   "metadata": {},
   "outputs": [],
   "source": [
    "var4 = 1."
   ]
  },
  {
   "cell_type": "code",
   "execution_count": 20,
   "id": "1e8c9ffc-2523-42f3-9e5c-76b19e7c092e",
   "metadata": {},
   "outputs": [
    {
     "data": {
      "text/plain": [
       "float"
      ]
     },
     "execution_count": 20,
     "metadata": {},
     "output_type": "execute_result"
    }
   ],
   "source": [
    "type(var4)"
   ]
  },
  {
   "cell_type": "code",
   "execution_count": 21,
   "id": "b25680f2-ce6d-4e66-99e9-d64bd93141d6",
   "metadata": {},
   "outputs": [],
   "source": [
    "# Question No. 3\n",
    "a =10"
   ]
  },
  {
   "cell_type": "code",
   "execution_count": 22,
   "id": "86e314e5-51d6-4d54-97c6-584854d4dbe0",
   "metadata": {},
   "outputs": [],
   "source": [
    "b = 45"
   ]
  },
  {
   "cell_type": "code",
   "execution_count": 23,
   "id": "ba1b8a91-9d37-444a-b597-8739f769501d",
   "metadata": {},
   "outputs": [],
   "source": [
    "c = a/b"
   ]
  },
  {
   "cell_type": "code",
   "execution_count": 24,
   "id": "3f9107b1-342a-4e5d-bc36-bf9513bdff69",
   "metadata": {},
   "outputs": [
    {
     "name": "stdout",
     "output_type": "stream",
     "text": [
      "0.2222222222222222\n"
     ]
    }
   ],
   "source": [
    "print(c)"
   ]
  },
  {
   "cell_type": "code",
   "execution_count": 25,
   "id": "2762fab2-cd59-4ea8-9cd2-285252fa5042",
   "metadata": {},
   "outputs": [],
   "source": [
    "c = a % b"
   ]
  },
  {
   "cell_type": "code",
   "execution_count": 26,
   "id": "b3b6704b-4f40-4816-a2cf-b6d5eb5289e7",
   "metadata": {},
   "outputs": [
    {
     "name": "stdout",
     "output_type": "stream",
     "text": [
      "10\n"
     ]
    }
   ],
   "source": [
    "print(c)"
   ]
  },
  {
   "cell_type": "code",
   "execution_count": 27,
   "id": "4b1144b9-cef9-4708-acad-56c24d829617",
   "metadata": {},
   "outputs": [],
   "source": [
    "c = a // b"
   ]
  },
  {
   "cell_type": "code",
   "execution_count": 28,
   "id": "f1da1a12-f71b-448e-91e6-fe12cdc0b996",
   "metadata": {},
   "outputs": [
    {
     "name": "stdout",
     "output_type": "stream",
     "text": [
      "0\n"
     ]
    }
   ],
   "source": [
    "print(c)"
   ]
  },
  {
   "cell_type": "code",
   "execution_count": 29,
   "id": "b0acff96-0b17-434b-bf68-2bddbbe79d14",
   "metadata": {},
   "outputs": [],
   "source": [
    "a = 2"
   ]
  },
  {
   "cell_type": "code",
   "execution_count": 30,
   "id": "7a6cfec7-c975-4f88-9e97-c8b7d5bb3c44",
   "metadata": {},
   "outputs": [
    {
     "data": {
      "text/plain": [
       "16"
      ]
     },
     "execution_count": 30,
     "metadata": {},
     "output_type": "execute_result"
    }
   ],
   "source": [
    "a**4"
   ]
  },
  {
   "cell_type": "code",
   "execution_count": 31,
   "id": "072dd060-c733-46ab-9e4d-d0009fb4c9e6",
   "metadata": {},
   "outputs": [],
   "source": [
    "#Question No. 4\n",
    "l = [23, 25.8, \"your name\", True, False, 53, \"pw skills\", 85.7889, 87, 85]"
   ]
  },
  {
   "cell_type": "code",
   "execution_count": 32,
   "id": "e6dfdba2-283e-4576-92c3-cf65deb146cf",
   "metadata": {},
   "outputs": [
    {
     "data": {
      "text/plain": [
       "10"
      ]
     },
     "execution_count": 32,
     "metadata": {},
     "output_type": "execute_result"
    }
   ],
   "source": [
    "len(l)"
   ]
  },
  {
   "cell_type": "code",
   "execution_count": 33,
   "id": "e84a7db9-54bf-4ae3-8c6c-ed2130b0d690",
   "metadata": {},
   "outputs": [
    {
     "name": "stdout",
     "output_type": "stream",
     "text": [
      "23\n",
      "<class 'int'>\n",
      "25.8\n",
      "<class 'float'>\n",
      "your name\n",
      "<class 'str'>\n",
      "True\n",
      "<class 'bool'>\n",
      "False\n",
      "<class 'bool'>\n",
      "53\n",
      "<class 'int'>\n",
      "pw skills\n",
      "<class 'str'>\n",
      "85.7889\n",
      "<class 'float'>\n",
      "87\n",
      "<class 'int'>\n",
      "85\n",
      "<class 'int'>\n"
     ]
    }
   ],
   "source": [
    "for i in l :\n",
    "    print(i)\n",
    "    print(type(i))"
   ]
  },
  {
   "cell_type": "code",
   "execution_count": 34,
   "id": "7da60135-22c1-4b4a-beb2-fd84fbda43be",
   "metadata": {},
   "outputs": [
    {
     "name": "stdout",
     "output_type": "stream",
     "text": [
      "A is disible by B in  3 times\n"
     ]
    }
   ],
   "source": [
    "# Question No. 5\n",
    "a = 1000\n",
    "b = 5\n",
    "i = 0\n",
    "while (a%b == 0) :\n",
    "    i = i+1\n",
    "    a=a/b\n",
    "    if (a < b) :\n",
    "        break\n",
    "if(i>0):\n",
    "    print(\"A is disible by B in \",i,\"times\")\n",
    "else:\n",
    "    print(\"A is not fully divisile by B\")"
   ]
  },
  {
   "cell_type": "code",
   "execution_count": 35,
   "id": "47f2b269-1927-4c1b-a461-f3b939c3eb66",
   "metadata": {},
   "outputs": [
    {
     "name": "stdout",
     "output_type": "stream",
     "text": [
      "25 its not divisible by 3\n",
      "45 its divisible by 3\n",
      "4521 its divisible by 3\n",
      "41 its not divisible by 3\n",
      "78 its divisible by 3\n",
      "85 its not divisible by 3\n",
      "26 its not divisible by 3\n",
      "955 its not divisible by 3\n",
      "125 its not divisible by 3\n",
      "147 its divisible by 3\n",
      "12 its divisible by 3\n",
      "47 its not divisible by 3\n",
      "14 its not divisible by 3\n",
      "21 its divisible by 3\n",
      "25 its not divisible by 3\n",
      "36 its divisible by 3\n",
      "255 its divisible by 3\n",
      "24 its divisible by 3\n",
      "56 its not divisible by 3\n",
      "85 its not divisible by 3\n",
      "748 its not divisible by 3\n",
      "415 its not divisible by 3\n",
      "62 its not divisible by 3\n",
      "12 its divisible by 3\n",
      "45 its divisible by 3\n"
     ]
    }
   ],
   "source": [
    "# Question No. 6\n",
    "a = [25, 45, 4521, 41, 78, 85, 26, 955, 125, 147, 12, 47, 14, 21, 25, 36, 255, 24, 56, 85, 748, 415, 62, 12, 45]\n",
    "for i in a :\n",
    "    if i % 3 ==0 :\n",
    "        print (i, \"its divisible by 3\")\n",
    "    else:\n",
    "        print (i, \"its not divisible by 3\")"
   ]
  },
  {
   "cell_type": "code",
   "execution_count": 36,
   "id": "72eb0205-217d-400b-8b4c-1c74899e2996",
   "metadata": {},
   "outputs": [],
   "source": [
    "# Question no. 7\n",
    "# List datatype are mutable due to list will be change because list is the collection of the data.\n",
    "# Examble :-\n",
    "x = [2, 3, 4, 5]"
   ]
  },
  {
   "cell_type": "code",
   "execution_count": 37,
   "id": "c83b25aa-fd0b-4848-ad66-df8367ef0517",
   "metadata": {},
   "outputs": [
    {
     "data": {
      "text/plain": [
       "list"
      ]
     },
     "execution_count": 37,
     "metadata": {},
     "output_type": "execute_result"
    }
   ],
   "source": [
    "type(x)"
   ]
  },
  {
   "cell_type": "code",
   "execution_count": 38,
   "id": "b742a47a-74b0-4c0e-9372-cc71a1e9f8f6",
   "metadata": {},
   "outputs": [],
   "source": [
    "x[2] = 10"
   ]
  },
  {
   "cell_type": "code",
   "execution_count": 39,
   "id": "44a60490-e03c-48ad-b056-7f1c8448f745",
   "metadata": {},
   "outputs": [
    {
     "data": {
      "text/plain": [
       "[2, 3, 10, 5]"
      ]
     },
     "execution_count": 39,
     "metadata": {},
     "output_type": "execute_result"
    }
   ],
   "source": [
    "x"
   ]
  },
  {
   "cell_type": "code",
   "execution_count": 44,
   "id": "bd03a3c2-c3a9-4b9e-a01b-337a61c808f8",
   "metadata": {},
   "outputs": [],
   "source": [
    "# String datatype are immutable due to it will not change.\n",
    "# Examble :-\n",
    "y = \"Shantam\""
   ]
  },
  {
   "cell_type": "code",
   "execution_count": 42,
   "id": "07a8dd34-6579-4b7c-ae1d-7138161ae2b9",
   "metadata": {},
   "outputs": [
    {
     "ename": "TypeError",
     "evalue": "'str' object does not support item assignment",
     "output_type": "error",
     "traceback": [
      "\u001b[0;31m---------------------------------------------------------------------------\u001b[0m",
      "\u001b[0;31mTypeError\u001b[0m                                 Traceback (most recent call last)",
      "Cell \u001b[0;32mIn[42], line 1\u001b[0m\n\u001b[0;32m----> 1\u001b[0m \u001b[43my\u001b[49m\u001b[43m[\u001b[49m\u001b[38;5;241;43m2\u001b[39;49m\u001b[43m]\u001b[49m\u001b[38;5;241m=\u001b[39m \u001b[38;5;124m\"\u001b[39m\u001b[38;5;124md\u001b[39m\u001b[38;5;124m\"\u001b[39m\n",
      "\u001b[0;31mTypeError\u001b[0m: 'str' object does not support item assignment"
     ]
    }
   ],
   "source": [
    "y[2]= \"d\""
   ]
  },
  {
   "cell_type": "code",
   "execution_count": 43,
   "id": "3504fb74-eaf0-4026-8bc6-a2f6c54d5f35",
   "metadata": {},
   "outputs": [],
   "source": [
    "# tuple datatype are immutable due to it will not change.\n",
    "# Examble :-\n",
    "d = (25,\"Shantam\", 74.85)"
   ]
  },
  {
   "cell_type": "code",
   "execution_count": 45,
   "id": "f1342a52-5d05-48b4-aa3b-4851d7c4f853",
   "metadata": {},
   "outputs": [
    {
     "data": {
      "text/plain": [
       "tuple"
      ]
     },
     "execution_count": 45,
     "metadata": {},
     "output_type": "execute_result"
    }
   ],
   "source": [
    "type(d)"
   ]
  },
  {
   "cell_type": "code",
   "execution_count": 47,
   "id": "956f2055-036c-4739-96bb-a4d56af8230c",
   "metadata": {},
   "outputs": [
    {
     "ename": "TypeError",
     "evalue": "'tuple' object does not support item assignment",
     "output_type": "error",
     "traceback": [
      "\u001b[0;31m---------------------------------------------------------------------------\u001b[0m",
      "\u001b[0;31mTypeError\u001b[0m                                 Traceback (most recent call last)",
      "Cell \u001b[0;32mIn[47], line 1\u001b[0m\n\u001b[0;32m----> 1\u001b[0m \u001b[43md\u001b[49m\u001b[43m[\u001b[49m\u001b[38;5;241;43m1\u001b[39;49m\u001b[43m]\u001b[49m \u001b[38;5;241m=\u001b[39m \u001b[38;5;241m12\u001b[39m \n",
      "\u001b[0;31mTypeError\u001b[0m: 'tuple' object does not support item assignment"
     ]
    }
   ],
   "source": [
    "d[1] = 12 "
   ]
  },
  {
   "cell_type": "code",
   "execution_count": null,
   "id": "1fa63c86-5195-48cf-b0ea-4ab5284cafc1",
   "metadata": {},
   "outputs": [],
   "source": []
  }
 ],
 "metadata": {
  "kernelspec": {
   "display_name": "Python 3 (ipykernel)",
   "language": "python",
   "name": "python3"
  },
  "language_info": {
   "codemirror_mode": {
    "name": "ipython",
    "version": 3
   },
   "file_extension": ".py",
   "mimetype": "text/x-python",
   "name": "python",
   "nbconvert_exporter": "python",
   "pygments_lexer": "ipython3",
   "version": "3.10.8"
  }
 },
 "nbformat": 4,
 "nbformat_minor": 5
}
